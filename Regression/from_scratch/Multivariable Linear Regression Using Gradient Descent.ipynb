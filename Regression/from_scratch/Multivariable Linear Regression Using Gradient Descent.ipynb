{
 "cells": [
  {
   "cell_type": "code",
   "execution_count": 66,
   "metadata": {},
   "outputs": [],
   "source": [
    "import numpy as np\n",
    "import  pandas as pd\n",
    "import matplotlib.pyplot as plt"
   ]
  },
  {
   "cell_type": "code",
   "execution_count": 67,
   "metadata": {},
   "outputs": [
    {
     "name": "stdout",
     "output_type": "stream",
     "text": [
      "   R&D Spend  Administration  Marketing Spend       State     Profit\n",
      "0  165349.20       136897.80        471784.10    New York  192261.83\n",
      "1  162597.70       151377.59        443898.53  California  191792.06\n",
      "2  153441.51       101145.55        407934.54     Florida  191050.39\n",
      "3  144372.41       118671.85        383199.62    New York  182901.99\n",
      "4  142107.34        91391.77        366168.42     Florida  166187.94\n",
      "5  131876.90        99814.71        362861.36    New York  156991.12\n",
      "6  134615.46       147198.87        127716.82  California  156122.51\n",
      "7  130298.13       145530.06        323876.68     Florida  155752.60\n",
      "8  120542.52       148718.95        311613.29    New York  152211.77\n",
      "9  123334.88       108679.17        304981.62  California  149759.96\n"
     ]
    }
   ],
   "source": [
    "# Importing the dataset\n",
    "d = pd.read_csv('regression_data1.csv')\n",
    "print(d[:10])\n",
    "x = d.iloc[:, :-1].values\n",
    "y = d.iloc[:, -1].values"
   ]
  },
  {
   "cell_type": "code",
   "execution_count": 68,
   "metadata": {},
   "outputs": [
    {
     "name": "stdout",
     "output_type": "stream",
     "text": [
      "[[0.0 0.0 1.0 165349.2 136897.8 471784.1]\n",
      " [1.0 0.0 0.0 162597.7 151377.59 443898.53]\n",
      " [0.0 1.0 0.0 153441.51 101145.55 407934.54]\n",
      " [0.0 0.0 1.0 144372.41 118671.85 383199.62]\n",
      " [0.0 1.0 0.0 142107.34 91391.77 366168.42]]\n"
     ]
    }
   ],
   "source": [
    "#one hot encoding of categorical data\n",
    "from sklearn.compose import ColumnTransformer\n",
    "from sklearn.preprocessing import OneHotEncoder\n",
    "ct = ColumnTransformer(transformers=[('encoder', OneHotEncoder(), [3])], remainder='passthrough')\n",
    "x = np.array(ct.fit_transform(x))\n",
    "print(x[:5])"
   ]
  },
  {
   "cell_type": "code",
   "execution_count": 69,
   "metadata": {},
   "outputs": [],
   "source": [
    "# Splitting the dataset into the Training set and Test set\n",
    "from sklearn.model_selection import train_test_split\n",
    "x_train, x_test, y_train, y_test = train_test_split(x, y, test_size = 1/3, random_state = 0)"
   ]
  },
  {
   "cell_type": "code",
   "execution_count": 70,
   "metadata": {},
   "outputs": [],
   "source": [
    "# Feature Scaling\n",
    "from sklearn.preprocessing import StandardScaler\n",
    "sc = StandardScaler()\n",
    "x_train = sc.fit_transform(x_train)\n",
    "x_test = sc.transform(x_test)"
   ]
  },
  {
   "cell_type": "code",
   "execution_count": 71,
   "metadata": {},
   "outputs": [],
   "source": [
    "def getInputs(x,y):\n",
    "    #dims of theta : (no_of_variable+1,1)\n",
    "    #dims of x : (m,no_of_variable)\n",
    "    #dims of y : (m,1)\n",
    "    #initilizing theta\n",
    "    theta=np.zeros(shape=(x.shape[1]+1,1))\n",
    "    #horizontal stacking of x with ones for evaluation of theta0\n",
    "    ones=np.ones(shape=(x.shape[0],1))\n",
    "    x=np.hstack((ones,x))\n",
    "    #new dims of x : (m,no_of_variable+1)\n",
    "    #reshaping y:\n",
    "    y=y.reshape((y.shape[0],1))\n",
    "    print(\"X Shape : \",x.shape)\n",
    "    print(\"Y Shape : \",y.shape)\n",
    "    print(\"Theta Shape : \",theta.shape)\n",
    "    return x,y,theta"
   ]
  },
  {
   "cell_type": "code",
   "execution_count": 72,
   "metadata": {},
   "outputs": [],
   "source": [
    "#hypothesis function\n",
    "def h(x,theta):\n",
    "    #h(x)=x.theta\n",
    "    return np.dot(x,theta)"
   ]
  },
  {
   "cell_type": "code",
   "execution_count": 73,
   "metadata": {},
   "outputs": [],
   "source": [
    "#gradient descent function\n",
    "def gradientDescent(x,y,alpha=0.0):\n",
    "    x,y,theta=getInputs(x,y)\n",
    "    #taking 1000 iterations for convergence\n",
    "    for i in range(1000):\n",
    "        theta=theta-alpha*(1/x.shape[0])*np.sum((h(x,theta)-y)*x,axis=0).reshape((theta.shape[0],1))\n",
    "    return(theta)"
   ]
  },
  {
   "cell_type": "code",
   "execution_count": 74,
   "metadata": {},
   "outputs": [
    {
     "name": "stdout",
     "output_type": "stream",
     "text": [
      "X Shape :  (33, 7)\n",
      "Y Shape :  (33, 1)\n",
      "Theta Shape :  (7, 1)\n",
      "[[108167.60496947]\n",
      " [  -536.21702607]\n",
      " [  1630.16902164]\n",
      " [  -649.78542513]\n",
      " [ 39711.69674944]\n",
      " [  1408.12655764]\n",
      " [  3316.37053057]]\n"
     ]
    }
   ],
   "source": [
    "theta=gradientDescent(x_train,y_train,alpha=0.02)\n",
    "print(theta)"
   ]
  },
  {
   "cell_type": "code",
   "execution_count": 75,
   "metadata": {},
   "outputs": [],
   "source": [
    "def predict(x,theta):\n",
    "    #horizontal stacking of x with ones for evaluation of theta0\n",
    "    tx=x\n",
    "    ones=np.ones(shape=(x.shape[0],1))\n",
    "    x=np.hstack((ones,x))\n",
    "    out=h(x,theta)\n",
    "    return out"
   ]
  },
  {
   "cell_type": "code",
   "execution_count": 76,
   "metadata": {},
   "outputs": [
    {
     "data": {
      "text/plain": [
       "array([[111416.70662755],\n",
       "       [132466.33757397],\n",
       "       [139625.94483241],\n",
       "       [ 75912.47690705],\n",
       "       [185821.7888661 ],\n",
       "       [113383.06259343],\n",
       "       [ 63243.90549304],\n",
       "       [ 99112.64858715],\n",
       "       [119275.46571795],\n",
       "       [174947.86618649],\n",
       "       [100802.21507717],\n",
       "       [ 85935.9729772 ],\n",
       "       [117298.96909273],\n",
       "       [ 90658.67291799],\n",
       "       [133142.32836248],\n",
       "       [167189.05553124],\n",
       "       [157619.25578866]])"
      ]
     },
     "execution_count": 76,
     "metadata": {},
     "output_type": "execute_result"
    }
   ],
   "source": [
    "predict(x_test,theta)"
   ]
  },
  {
   "cell_type": "code",
   "execution_count": null,
   "metadata": {},
   "outputs": [],
   "source": []
  }
 ],
 "metadata": {
  "kernelspec": {
   "display_name": "Python 3",
   "language": "python",
   "name": "python3"
  },
  "language_info": {
   "codemirror_mode": {
    "name": "ipython",
    "version": 3
   },
   "file_extension": ".py",
   "mimetype": "text/x-python",
   "name": "python",
   "nbconvert_exporter": "python",
   "pygments_lexer": "ipython3",
   "version": "3.8.3"
  }
 },
 "nbformat": 4,
 "nbformat_minor": 4
}
