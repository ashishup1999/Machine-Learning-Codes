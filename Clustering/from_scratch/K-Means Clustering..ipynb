{
 "cells": [
  {
   "cell_type": "code",
   "execution_count": 1,
   "metadata": {},
   "outputs": [],
   "source": [
    "import numpy as np\n",
    "import pandas as pd"
   ]
  },
  {
   "cell_type": "code",
   "execution_count": 2,
   "metadata": {},
   "outputs": [
    {
     "name": "stdout",
     "output_type": "stream",
     "text": [
      "   CustomerID   Genre  Age  Annual Income (k$)  Spending Score (1-100)\n",
      "0           1    Male   19                  15                      39\n",
      "1           2    Male   21                  15                      81\n",
      "2           3  Female   20                  16                       6\n",
      "3           4  Female   23                  16                      77\n",
      "4           5  Female   31                  17                      40\n"
     ]
    }
   ],
   "source": [
    "df=pd.read_csv(\"Mall_Customers.csv\")\n",
    "print(df[:5])"
   ]
  },
  {
   "cell_type": "code",
   "execution_count": 3,
   "metadata": {},
   "outputs": [
    {
     "name": "stdout",
     "output_type": "stream",
     "text": [
      "[[15 39]\n",
      " [15 81]\n",
      " [16  6]\n",
      " [16 77]\n",
      " [17 40]]\n"
     ]
    }
   ],
   "source": [
    "x=df.iloc[:,[3,4]].values\n",
    "print(x[:5])"
   ]
  },
  {
   "cell_type": "code",
   "execution_count": 4,
   "metadata": {},
   "outputs": [
    {
     "data": {
      "text/plain": [
       "\"from sklearn.compose import ColumnTransformer\\nfrom sklearn.preprocessing import OneHotEncoder\\nct = ColumnTransformer(transformers=[('encoder', OneHotEncoder(), [1])], remainder='passthrough')\\nx = np.array(ct.fit_transform(x))\""
      ]
     },
     "execution_count": 4,
     "metadata": {},
     "output_type": "execute_result"
    }
   ],
   "source": [
    "# onehot encoding\n",
    "'''from sklearn.compose import ColumnTransformer\n",
    "from sklearn.preprocessing import OneHotEncoder\n",
    "ct = ColumnTransformer(transformers=[('encoder', OneHotEncoder(), [1])], remainder='passthrough')\n",
    "x = np.array(ct.fit_transform(x))'''"
   ]
  },
  {
   "cell_type": "code",
   "execution_count": 5,
   "metadata": {},
   "outputs": [
    {
     "name": "stdout",
     "output_type": "stream",
     "text": [
      "centroids\n",
      " [[77 74]\n",
      " [71 35]\n",
      " [78 17]\n",
      " [20 79]\n",
      " [60 49]]\n"
     ]
    }
   ],
   "source": [
    "k=5 #no of clusters.\n",
    "centroids=x[np.random.choice(x.shape[0],k,replace=False), :]\n",
    "print(\"centroids\\n\",centroids)"
   ]
  },
  {
   "cell_type": "code",
   "execution_count": 6,
   "metadata": {},
   "outputs": [],
   "source": [
    "eucledian_dists=np.zeros((x.shape[0],k))\n",
    "curr_cluster=np.zeros((x.shape[0],1))"
   ]
  },
  {
   "cell_type": "code",
   "execution_count": 7,
   "metadata": {},
   "outputs": [],
   "source": [
    "j=0\n",
    "while j<1000:\n",
    "    #np.argmax(arr) gives maximum occured element index\n",
    "    clusters={}\n",
    "    for i in range(k):\n",
    "        eucledian_dists[:,[i]]=np.sqrt(np.array(np.sum((x-centroids[i])**2,axis=1).reshape((x.shape[0],1)),dtype=np.int64))\n",
    "    for i in range(k):\n",
    "        clusters[i]=np.array([centroids[i]])\n",
    "    for i in range(x.shape[0]):\n",
    "        clusters[np.argmax(eucledian_dists[i])]=np.concatenate((clusters[np.argmax(eucledian_dists[i])],\n",
    "                                                               x[i].reshape(1,x.shape[1])), axis=0)\n",
    "    for i in range(k):\n",
    "        clusters[i]=clusters[i][1:]\n",
    "        if clusters[i].shape[0]!=0:\n",
    "            centroids[i]=np.mean(clusters[i],axis=0)\n",
    "    j+=1"
   ]
  },
  {
   "cell_type": "code",
   "execution_count": 8,
   "metadata": {},
   "outputs": [
    {
     "data": {
      "image/png": "[encoded data removed]",
      "text/plain": [
       "<Figure size 432x288 with 1 Axes>"
      ]
     },
     "metadata": {
      "needs_background": "light"
     },
     "output_type": "display_data"
    }
   ],
   "source": [
    "# Visualising the Training set results\n",
    "import matplotlib.pyplot as plt\n",
    "cls_clr={0:\"red\",1:\"green\",2:\"blue\",3:\"cyan\",4:\"yellow\"}\n",
    "for i in range(k):\n",
    "    for j in clusters[i]:\n",
    "        plt.scatter(j[0],j[1], color=cls_clr[i])\n",
    "plt.title('Clustering')\n",
    "plt.xlabel('Age')\n",
    "plt.ylabel('Anual Income')\n",
    "plt.show()"
   ]
  },
  {
   "cell_type": "code",
   "execution_count": null,
   "metadata": {},
   "outputs": [],
   "source": []
  }
 ],
 "metadata": {
  "kernelspec": {
   "display_name": "Python 3",
   "language": "python",
   "name": "python3"
  },
  "language_info": {
   "codemirror_mode": {
    "name": "ipython",
    "version": 3
   },
   "file_extension": ".py",
   "mimetype": "text/x-python",
   "name": "python",
   "nbconvert_exporter": "python",
   "pygments_lexer": "ipython3",
   "version": "3.8.3"
  }
 },
 "nbformat": 4,
 "nbformat_minor": 4
}
