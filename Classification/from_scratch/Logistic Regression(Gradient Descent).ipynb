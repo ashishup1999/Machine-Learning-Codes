{
 "cells": [
  {
   "cell_type": "code",
   "execution_count": 1,
   "metadata": {},
   "outputs": [],
   "source": [
    "import numpy as np\n",
    "import  pandas as pd\n",
    "import matplotlib.pyplot as plt"
   ]
  },
  {
   "cell_type": "code",
   "execution_count": 2,
   "metadata": {},
   "outputs": [
    {
     "name": "stdout",
     "output_type": "stream",
     "text": [
      "   Age  EstimatedSalary  Purchased\n",
      "0   19            19000          0\n",
      "1   35            20000          0\n",
      "2   26            43000          0\n",
      "3   27            57000          0\n",
      "4   19            76000          0\n",
      "5   27            58000          0\n",
      "6   27            84000          0\n",
      "7   32           150000          1\n",
      "8   25            33000          0\n",
      "9   35            65000          0\n"
     ]
    }
   ],
   "source": [
    "# Importing the dataset\n",
    "d = pd.read_csv('class1.csv')\n",
    "print(d[:10])\n",
    "x = d.iloc[:, :-1].values\n",
    "y = d.iloc[:, [-1]].values"
   ]
  },
  {
   "cell_type": "code",
   "execution_count": 3,
   "metadata": {},
   "outputs": [],
   "source": [
    "# Splitting the dataset into the Training set and Test set\n",
    "from sklearn.model_selection import train_test_split\n",
    "x_train, x_test, y_train, y_test = train_test_split(x, y, test_size = 1/3)"
   ]
  },
  {
   "cell_type": "code",
   "execution_count": 4,
   "metadata": {},
   "outputs": [],
   "source": [
    "# Feature Scaling\n",
    "from sklearn.preprocessing import StandardScaler\n",
    "sc = StandardScaler()\n",
    "x_train = sc.fit_transform(x_train)\n",
    "x_test = sc.transform(x_test)"
   ]
  },
  {
   "cell_type": "code",
   "execution_count": 5,
   "metadata": {},
   "outputs": [],
   "source": [
    "def getInputs(x,y):\n",
    "    #dims of theta : (no_of_variable+1,1)\n",
    "    #dims of x : (m,no_of_variable)\n",
    "    #dims of y : (m,1)\n",
    "    #initilizing theta\n",
    "    theta=np.zeros(shape=(x.shape[1]+1,1))\n",
    "    #horizontal stacking of x with ones for evaluation of theta0\n",
    "    ones=np.ones(shape=(x.shape[0],1))\n",
    "    x=np.hstack((ones,x))\n",
    "    #new dims of x : (m,no_of_variable+1)\n",
    "    #reshaping y:\n",
    "    y=y.reshape((y.shape[0],1))\n",
    "    print(\"X Shape : \",x.shape)\n",
    "    print(\"Y Shape : \",y.shape)\n",
    "    print(\"Theta Shape : \",theta.shape)\n",
    "    return x,y,theta"
   ]
  },
  {
   "cell_type": "code",
   "execution_count": 6,
   "metadata": {},
   "outputs": [],
   "source": [
    "def sigmoid(z):\n",
    "    return np.around(1/(1+np.exp(-z)))"
   ]
  },
  {
   "cell_type": "code",
   "execution_count": 7,
   "metadata": {},
   "outputs": [],
   "source": [
    "#hypothesis function\n",
    "def h(x,theta):\n",
    "    #h(x)=x.theta\n",
    "    return sigmoid(np.dot(x,theta))"
   ]
  },
  {
   "cell_type": "code",
   "execution_count": 8,
   "metadata": {},
   "outputs": [],
   "source": [
    "#gradient descent function\n",
    "def gradientDescent(x,y,alpha=0.0):\n",
    "    x,y,theta=getInputs(x,y)\n",
    "    #taking 1000 iterations for convergence\n",
    "    for i in range(2000):\n",
    "        theta=theta-alpha*(1/x.shape[0])*np.sum((h(x,theta)-y)*x,axis=0).reshape((theta.shape[0],1))\n",
    "    return(theta)"
   ]
  },
  {
   "cell_type": "code",
   "execution_count": 9,
   "metadata": {},
   "outputs": [
    {
     "name": "stdout",
     "output_type": "stream",
     "text": [
      "X Shape :  (266, 3)\n",
      "Y Shape :  (266, 1)\n",
      "Theta Shape :  (3, 1)\n",
      "[[0.00015038]\n",
      " [0.00433414]\n",
      " [0.00186016]]\n"
     ]
    }
   ],
   "source": [
    "theta=gradientDescent(x_train,y_train,alpha=0.02)\n",
    "print(theta)"
   ]
  },
  {
   "cell_type": "code",
   "execution_count": 10,
   "metadata": {},
   "outputs": [],
   "source": [
    "def predict(x,theta):\n",
    "    #horizontal stacking of x with ones for evaluation of theta0\n",
    "    tx=x\n",
    "    ones=np.ones(shape=(x.shape[0],1))\n",
    "    x=np.hstack((ones,x))\n",
    "    out=h(x,theta)\n",
    "    return out"
   ]
  },
  {
   "cell_type": "code",
   "execution_count": 11,
   "metadata": {},
   "outputs": [],
   "source": [
    "y_pred=predict(x_test,theta)"
   ]
  },
  {
   "cell_type": "code",
   "execution_count": 12,
   "metadata": {},
   "outputs": [
    {
     "name": "stdout",
     "output_type": "stream",
     "text": [
      "[[70 18]\n",
      " [ 3 43]]\n"
     ]
    },
    {
     "data": {
      "text/plain": [
       "0.8432835820895522"
      ]
     },
     "execution_count": 12,
     "metadata": {},
     "output_type": "execute_result"
    }
   ],
   "source": [
    "#confusion matrix\n",
    "from sklearn.metrics import confusion_matrix, accuracy_score\n",
    "cm = confusion_matrix(y_test, y_pred)\n",
    "print(cm)\n",
    "accuracy_score(y_test, y_pred)"
   ]
  },
  {
   "cell_type": "code",
   "execution_count": 13,
   "metadata": {},
   "outputs": [
    {
     "data": {
      "image/png": "[encoded data removed]",
      "text/plain": [
       "<Figure size 432x288 with 2 Axes>"
      ]
     },
     "metadata": {
      "needs_background": "light"
     },
     "output_type": "display_data"
    }
   ],
   "source": [
    "import seaborn as sns\n",
    "def drawCmPlot(cf_matrix):\n",
    "    group_names = ['True Neg','False Pos','False Neg','True Pos']\n",
    "    group_counts = ['{0:0.0f}'.format(value) for value in\n",
    "                    cf_matrix.flatten()]\n",
    "    group_percentages = ['{0:.2%}'.format(value) for value in\n",
    "                         cf_matrix.flatten()/np.sum(cf_matrix)]\n",
    "    labels = [f'{v1}\\n{v2}\\n{v3}' for v1, v2, v3 in\n",
    "              zip(group_names,group_counts,group_percentages)]\n",
    "    labels = np.asarray(labels).reshape(2,2)\n",
    "    sns.heatmap(cf_matrix, annot=labels, fmt=\"\", cmap='Blues')\n",
    "\n",
    "drawCmPlot(cm)"
   ]
  },
  {
   "cell_type": "code",
   "execution_count": 14,
   "metadata": {},
   "outputs": [
    {
     "data": {
      "image/png": "[encoded data removed]",
      "text/plain": [
       "<Figure size 432x288 with 1 Axes>"
      ]
     },
     "metadata": {
      "needs_background": "light"
     },
     "output_type": "display_data"
    }
   ],
   "source": [
    "# Visualising the Training set results\n",
    "import matplotlib.pyplot as plt\n",
    "cls_clr={0:\"red\",1:\"green\"}\n",
    "for i in range(x_train.shape[0]):\n",
    "    plt.scatter(x_train[i,0],x_train[i,1], color=cls_clr[y_train[i,0]])\n",
    "plt.title('Social Adverising')\n",
    "plt.xlabel('Age')\n",
    "plt.ylabel('Salary')\n",
    "plt.show()"
   ]
  },
  {
   "cell_type": "code",
   "execution_count": 15,
   "metadata": {},
   "outputs": [
    {
     "data": {
      "image/png": "[encoded data removed]",
      "text/plain": [
       "<Figure size 432x288 with 1 Axes>"
      ]
     },
     "metadata": {
      "needs_background": "light"
     },
     "output_type": "display_data"
    }
   ],
   "source": [
    "#visualising teh Test set results\n",
    "for i in range(x_test.shape[0]):\n",
    "    plt.scatter(x_test[i,0],x_test[i,1], color=cls_clr[y_test[i,0]])\n",
    "plt.title('Social Adverising')\n",
    "plt.xlabel('Age')\n",
    "plt.ylabel('Salary')\n",
    "plt.show()"
   ]
  },
  {
   "cell_type": "code",
   "execution_count": 16,
   "metadata": {},
   "outputs": [
    {
     "data": {
      "image/png": "[encoded data removed]",
      "text/plain": [
       "<Figure size 432x288 with 1 Axes>"
      ]
     },
     "metadata": {
      "needs_background": "light"
     },
     "output_type": "display_data"
    }
   ],
   "source": [
    "# Visualising the Test-pred set results\n",
    "for i in range(x_test.shape[0]):\n",
    "    plt.scatter(x_test[i,0],x_test[i,1],color=cls_clr[y_pred[i,0]])\n",
    "plt.title('Social Adverising')\n",
    "plt.xlabel('Age')\n",
    "plt.ylabel('Salary')\n",
    "plt.show()"
   ]
  },
  {
   "cell_type": "code",
   "execution_count": null,
   "metadata": {},
   "outputs": [],
   "source": []
  }
 ],
 "metadata": {
  "kernelspec": {
   "display_name": "Python 3",
   "language": "python",
   "name": "python3"
  },
  "language_info": {
   "codemirror_mode": {
    "name": "ipython",
    "version": 3
   },
   "file_extension": ".py",
   "mimetype": "text/x-python",
   "name": "python",
   "nbconvert_exporter": "python",
   "pygments_lexer": "ipython3",
   "version": "3.8.3"
  }
 },
 "nbformat": 4,
 "nbformat_minor": 4
}
